{
  "nbformat": 4,
  "nbformat_minor": 0,
  "metadata": {
    "colab": {
      "name": "Section1_Unit1.ipynb",
      "provenance": [],
      "collapsed_sections": [
        "Xz-4Et6D8HU5",
        "oWFdhql-9wNv",
        "_denbuPT-rSZ",
        "uLPKW4MXCIoZ",
        "sMw_5_PaEOmS",
        "WWkmWZokFsMJ"
      ],
      "authorship_tag": "ABX9TyM7HmFNxJXYfPNBmd92bVqU",
      "include_colab_link": true
    },
    "kernelspec": {
      "name": "python3",
      "display_name": "Python 3"
    },
    "language_info": {
      "name": "python"
    }
  },
  "cells": [
    {
      "cell_type": "markdown",
      "metadata": {
        "id": "view-in-github",
        "colab_type": "text"
      },
      "source": [
        "<a href=\"https://colab.research.google.com/github/wfwan/github-slideshow/blob/master/Section1_Unit1.ipynb\" target=\"_parent\"><img src=\"https://colab.research.google.com/assets/colab-badge.svg\" alt=\"Open In Colab\"/></a>"
      ]
    },
    {
      "cell_type": "markdown",
      "metadata": {
        "id": "Xz-4Et6D8HU5"
      },
      "source": [
        "# Daily Stock Price Data"
      ]
    },
    {
      "cell_type": "markdown",
      "metadata": {
        "id": "vhjapI7X9d19"
      },
      "source": [
        "Accss to historical price data is a neccessity when you plan to create and backtest your strategy. There are several web sources and Python packages available to download the data. In this notebook, you will learn how to download the daily stock price data by running a few lines of Python code.\n",
        "\n",
        "In this notebook, you will download the:\n",
        "1. Daily Price Data\n",
        "2. Adjusted Daily Price Data"
      ]
    },
    {
      "cell_type": "markdown",
      "metadata": {
        "id": "oWFdhql-9wNv"
      },
      "source": [
        "## Import Libraries"
      ]
    },
    {
      "cell_type": "code",
      "metadata": {
        "colab": {
          "base_uri": "https://localhost:8080/"
        },
        "id": "UhEZBXkc9_9Z",
        "outputId": "42b42e13-4d93-476f-dff5-f2c1563ff0f4"
      },
      "source": [
        "#For data manipulation\n",
        "import pandas as pd\n",
        "\n",
        "# To fetch financial data\n",
        "!pip install yfinance\n",
        "import yfinance as yf\n",
        "\n",
        "#For visualisation\n",
        "import matplotlib.pyplot as plt\n",
        "%matplotlib inline\n",
        "plt.style.use('seaborn-darkgrid')"
      ],
      "execution_count": 2,
      "outputs": [
        {
          "output_type": "stream",
          "text": [
            "Collecting yfinance\n",
            "  Downloading https://files.pythonhosted.org/packages/5e/4e/88d31f5509edcbc51bcbb7eeae72516b17ada1bc2ad5b496e2d05d62c696/yfinance-0.1.60.tar.gz\n",
            "Requirement already satisfied: pandas>=0.24 in /usr/local/lib/python3.7/dist-packages (from yfinance) (1.1.5)\n",
            "Requirement already satisfied: numpy>=1.15 in /usr/local/lib/python3.7/dist-packages (from yfinance) (1.19.5)\n",
            "Requirement already satisfied: requests>=2.20 in /usr/local/lib/python3.7/dist-packages (from yfinance) (2.23.0)\n",
            "Requirement already satisfied: multitasking>=0.0.7 in /usr/local/lib/python3.7/dist-packages (from yfinance) (0.0.9)\n",
            "Collecting lxml>=4.5.1\n",
            "\u001b[?25l  Downloading https://files.pythonhosted.org/packages/30/c0/d0526314971fc661b083ab135747dc68446a3022686da8c16d25fcf6ef07/lxml-4.6.3-cp37-cp37m-manylinux2014_x86_64.whl (6.3MB)\n",
            "\u001b[K     |████████████████████████████████| 6.3MB 6.2MB/s \n",
            "\u001b[?25hRequirement already satisfied: pytz>=2017.2 in /usr/local/lib/python3.7/dist-packages (from pandas>=0.24->yfinance) (2018.9)\n",
            "Requirement already satisfied: python-dateutil>=2.7.3 in /usr/local/lib/python3.7/dist-packages (from pandas>=0.24->yfinance) (2.8.1)\n",
            "Requirement already satisfied: certifi>=2017.4.17 in /usr/local/lib/python3.7/dist-packages (from requests>=2.20->yfinance) (2021.5.30)\n",
            "Requirement already satisfied: idna<3,>=2.5 in /usr/local/lib/python3.7/dist-packages (from requests>=2.20->yfinance) (2.10)\n",
            "Requirement already satisfied: urllib3!=1.25.0,!=1.25.1,<1.26,>=1.21.1 in /usr/local/lib/python3.7/dist-packages (from requests>=2.20->yfinance) (1.24.3)\n",
            "Requirement already satisfied: chardet<4,>=3.0.2 in /usr/local/lib/python3.7/dist-packages (from requests>=2.20->yfinance) (3.0.4)\n",
            "Requirement already satisfied: six>=1.5 in /usr/local/lib/python3.7/dist-packages (from python-dateutil>=2.7.3->pandas>=0.24->yfinance) (1.15.0)\n",
            "Building wheels for collected packages: yfinance\n",
            "  Building wheel for yfinance (setup.py) ... \u001b[?25l\u001b[?25hdone\n",
            "  Created wheel for yfinance: filename=yfinance-0.1.60-py2.py3-none-any.whl size=23819 sha256=552532879eebc8cfd94e5625f87c28eea42a873c61afbe9ca64171febf4f1cec\n",
            "  Stored in directory: /root/.cache/pip/wheels/f0/be/a4/846f02c5985562250917b0ab7b33fff737c8e6e8cd5209aa3b\n",
            "Successfully built yfinance\n",
            "Installing collected packages: lxml, yfinance\n",
            "  Found existing installation: lxml 4.2.6\n",
            "    Uninstalling lxml-4.2.6:\n",
            "      Successfully uninstalled lxml-4.2.6\n",
            "Successfully installed lxml-4.6.3 yfinance-0.1.60\n"
          ],
          "name": "stdout"
        }
      ]
    },
    {
      "cell_type": "markdown",
      "metadata": {
        "id": "_denbuPT-rSZ"
      },
      "source": [
        "# Daily Price Data"
      ]
    },
    {
      "cell_type": "markdown",
      "metadata": {
        "id": "7IFM-p4i-7Gs"
      },
      "source": [
        "To download the daily price data, you will use `yfinance` module to download the data from Yahoo! Finance.\n",
        "\n",
        "Yahoo! Finance is part of Yahoo's network and was sold in 2017 to Verizon Media. It is the largest business news website in the United States by monthly traffic and provides financial news, data and commentary including stock quotes, press releases, financial reports, and original content.\n",
        "\n",
        "They provide market data on cryptocurriencies, regular currencies, commodity futures, stocks and bonds, fundamental and options data, and market analysis and news.\n",
        "\n",
        "You can use the `download()` method of the `yfinance` package to download the dataset.\n",
        "\n",
        "Syntax:\n",
        "\n",
        "  import y finance as yf\n",
        "  \n",
        "  yf.download(ticker, start, end)\n",
        "\n",
        "Parameters:\n",
        "1. ticker: Ticker of the asset\n",
        "2. start: Start data\n",
        "3. end: End date, if not specified, data is downloaded till current data\n",
        "\n",
        "Returns:\n",
        "A `pandas` dataframe containing the open, high, low, close, and adjusted close price along with the volume for all trading days between the start and the end date.\n",
        "\n",
        "After downloading the data, you can use `matplotlib` to visualize the data."
      ]
    },
    {
      "cell_type": "code",
      "metadata": {
        "colab": {
          "base_uri": "https://localhost:8080/",
          "height": 255
        },
        "id": "Vytze7K7-Xqm",
        "outputId": "0946757c-849c-453d-8989-07024873d882"
      },
      "source": [
        "# Download the TopGlove price data till the current date\n",
        "# Set the ticker as '7113.KL'\n",
        "price_data_topglove = yf.download(\"7113.KL\", start=\"2021-06-27\", end=\"2021-07-03\")\n",
        "\n",
        "# Set the index to a datetime object\n",
        "price_data_topglove.index = pd.to_datetime(price_data_topglove.index)\n",
        "\n",
        "# Display the first 5 rows\n",
        "price_data_topglove.tail()"
      ],
      "execution_count": 9,
      "outputs": [
        {
          "output_type": "stream",
          "text": [
            "\r[*********************100%***********************]  1 of 1 completed\n"
          ],
          "name": "stdout"
        },
        {
          "output_type": "execute_result",
          "data": {
            "text/html": [
              "<div>\n",
              "<style scoped>\n",
              "    .dataframe tbody tr th:only-of-type {\n",
              "        vertical-align: middle;\n",
              "    }\n",
              "\n",
              "    .dataframe tbody tr th {\n",
              "        vertical-align: top;\n",
              "    }\n",
              "\n",
              "    .dataframe thead th {\n",
              "        text-align: right;\n",
              "    }\n",
              "</style>\n",
              "<table border=\"1\" class=\"dataframe\">\n",
              "  <thead>\n",
              "    <tr style=\"text-align: right;\">\n",
              "      <th></th>\n",
              "      <th>Open</th>\n",
              "      <th>High</th>\n",
              "      <th>Low</th>\n",
              "      <th>Close</th>\n",
              "      <th>Adj Close</th>\n",
              "      <th>Volume</th>\n",
              "    </tr>\n",
              "    <tr>\n",
              "      <th>Date</th>\n",
              "      <th></th>\n",
              "      <th></th>\n",
              "      <th></th>\n",
              "      <th></th>\n",
              "      <th></th>\n",
              "      <th></th>\n",
              "    </tr>\n",
              "  </thead>\n",
              "  <tbody>\n",
              "    <tr>\n",
              "      <th>2021-06-28</th>\n",
              "      <td>4.35</td>\n",
              "      <td>4.35</td>\n",
              "      <td>4.20</td>\n",
              "      <td>4.23</td>\n",
              "      <td>4.23</td>\n",
              "      <td>14661700</td>\n",
              "    </tr>\n",
              "    <tr>\n",
              "      <th>2021-06-29</th>\n",
              "      <td>4.22</td>\n",
              "      <td>4.35</td>\n",
              "      <td>4.20</td>\n",
              "      <td>4.30</td>\n",
              "      <td>4.30</td>\n",
              "      <td>18146500</td>\n",
              "    </tr>\n",
              "    <tr>\n",
              "      <th>2021-06-30</th>\n",
              "      <td>4.30</td>\n",
              "      <td>4.35</td>\n",
              "      <td>4.17</td>\n",
              "      <td>4.17</td>\n",
              "      <td>4.17</td>\n",
              "      <td>18600600</td>\n",
              "    </tr>\n",
              "    <tr>\n",
              "      <th>2021-07-01</th>\n",
              "      <td>4.17</td>\n",
              "      <td>4.21</td>\n",
              "      <td>4.05</td>\n",
              "      <td>4.07</td>\n",
              "      <td>4.07</td>\n",
              "      <td>16449300</td>\n",
              "    </tr>\n",
              "    <tr>\n",
              "      <th>2021-07-02</th>\n",
              "      <td>4.06</td>\n",
              "      <td>4.08</td>\n",
              "      <td>3.99</td>\n",
              "      <td>4.01</td>\n",
              "      <td>4.01</td>\n",
              "      <td>19364300</td>\n",
              "    </tr>\n",
              "  </tbody>\n",
              "</table>\n",
              "</div>"
            ],
            "text/plain": [
              "            Open  High   Low  Close  Adj Close    Volume\n",
              "Date                                                    \n",
              "2021-06-28  4.35  4.35  4.20   4.23       4.23  14661700\n",
              "2021-06-29  4.22  4.35  4.20   4.30       4.30  18146500\n",
              "2021-06-30  4.30  4.35  4.17   4.17       4.17  18600600\n",
              "2021-07-01  4.17  4.21  4.05   4.07       4.07  16449300\n",
              "2021-07-02  4.06  4.08  3.99   4.01       4.01  19364300"
            ]
          },
          "metadata": {
            "tags": []
          },
          "execution_count": 9
        }
      ]
    },
    {
      "cell_type": "markdown",
      "metadata": {
        "id": "uLPKW4MXCIoZ"
      },
      "source": [
        "# Adjusted Daily Price Data"
      ]
    },
    {
      "cell_type": "markdown",
      "metadata": {
        "id": "93ofsVTzCMfv"
      },
      "source": [
        "To download the adjusted dataset, you simply need to define the `auto_adjust` parameter to be `True` in the `download()` method.\n",
        "\n",
        "Syntax:\n",
        "\n",
        "import yfinance as yf\n",
        "\n",
        "yf.download(ticker, start, end, auto_adjust=True)\n",
        "\n",
        "Parameters:\n",
        "1. ticker: Ticker of the asset\n",
        "2. start: Start date\n",
        "3. end: End date, if not specified, data is downloaded till current data\n",
        "4. auto_adjust: Either `True` or `False` (The dafault is False)\n",
        "\n",
        "Returns: A `pandas` dataframe containing the adjusted open, high, low and close price along with the volume for all trading days between the start and end date."
      ]
    },
    {
      "cell_type": "code",
      "metadata": {
        "colab": {
          "base_uri": "https://localhost:8080/",
          "height": 255
        },
        "id": "nR5fbQlxBDrV",
        "outputId": "e48dd0d9-a858-4417-8ad4-a4a2e64c3faf"
      },
      "source": [
        "# Download the adjusted Topglove price data till the current date\n",
        "price_data_topglove_adjusted = yf.download(\"7113.KL\", start=\"2021-06-27\", end=\"2021-07-03\", auto_adjust=True)\n",
        "\n",
        "# Set the index to a datetime object\n",
        "price_data_topglove_adjusted.index = pd.to_datetime(price_data_topglove_adjusted.index)\n",
        "\n",
        "# Display the first 5 rows\n",
        "price_data_topglove_adjusted.tail()"
      ],
      "execution_count": 10,
      "outputs": [
        {
          "output_type": "stream",
          "text": [
            "\r[*********************100%***********************]  1 of 1 completed\n"
          ],
          "name": "stdout"
        },
        {
          "output_type": "execute_result",
          "data": {
            "text/html": [
              "<div>\n",
              "<style scoped>\n",
              "    .dataframe tbody tr th:only-of-type {\n",
              "        vertical-align: middle;\n",
              "    }\n",
              "\n",
              "    .dataframe tbody tr th {\n",
              "        vertical-align: top;\n",
              "    }\n",
              "\n",
              "    .dataframe thead th {\n",
              "        text-align: right;\n",
              "    }\n",
              "</style>\n",
              "<table border=\"1\" class=\"dataframe\">\n",
              "  <thead>\n",
              "    <tr style=\"text-align: right;\">\n",
              "      <th></th>\n",
              "      <th>Open</th>\n",
              "      <th>High</th>\n",
              "      <th>Low</th>\n",
              "      <th>Close</th>\n",
              "      <th>Volume</th>\n",
              "    </tr>\n",
              "    <tr>\n",
              "      <th>Date</th>\n",
              "      <th></th>\n",
              "      <th></th>\n",
              "      <th></th>\n",
              "      <th></th>\n",
              "      <th></th>\n",
              "    </tr>\n",
              "  </thead>\n",
              "  <tbody>\n",
              "    <tr>\n",
              "      <th>2021-06-28</th>\n",
              "      <td>4.35</td>\n",
              "      <td>4.35</td>\n",
              "      <td>4.20</td>\n",
              "      <td>4.23</td>\n",
              "      <td>14661700</td>\n",
              "    </tr>\n",
              "    <tr>\n",
              "      <th>2021-06-29</th>\n",
              "      <td>4.22</td>\n",
              "      <td>4.35</td>\n",
              "      <td>4.20</td>\n",
              "      <td>4.30</td>\n",
              "      <td>18146500</td>\n",
              "    </tr>\n",
              "    <tr>\n",
              "      <th>2021-06-30</th>\n",
              "      <td>4.30</td>\n",
              "      <td>4.35</td>\n",
              "      <td>4.17</td>\n",
              "      <td>4.17</td>\n",
              "      <td>18600600</td>\n",
              "    </tr>\n",
              "    <tr>\n",
              "      <th>2021-07-01</th>\n",
              "      <td>4.17</td>\n",
              "      <td>4.21</td>\n",
              "      <td>4.05</td>\n",
              "      <td>4.07</td>\n",
              "      <td>16449300</td>\n",
              "    </tr>\n",
              "    <tr>\n",
              "      <th>2021-07-02</th>\n",
              "      <td>4.06</td>\n",
              "      <td>4.08</td>\n",
              "      <td>3.99</td>\n",
              "      <td>4.01</td>\n",
              "      <td>19364300</td>\n",
              "    </tr>\n",
              "  </tbody>\n",
              "</table>\n",
              "</div>"
            ],
            "text/plain": [
              "            Open  High   Low  Close    Volume\n",
              "Date                                         \n",
              "2021-06-28  4.35  4.35  4.20   4.23  14661700\n",
              "2021-06-29  4.22  4.35  4.20   4.30  18146500\n",
              "2021-06-30  4.30  4.35  4.17   4.17  18600600\n",
              "2021-07-01  4.17  4.21  4.05   4.07  16449300\n",
              "2021-07-02  4.06  4.08  3.99   4.01  19364300"
            ]
          },
          "metadata": {
            "tags": []
          },
          "execution_count": 10
        }
      ]
    },
    {
      "cell_type": "markdown",
      "metadata": {
        "id": "sMw_5_PaEOmS"
      },
      "source": [
        "# Plot the Close Price"
      ]
    },
    {
      "cell_type": "code",
      "metadata": {
        "colab": {
          "base_uri": "https://localhost:8080/",
          "height": 481
        },
        "id": "HuAIqOW_EC9p",
        "outputId": "32e173e6-7374-487c-9de3-fc6957a0331b"
      },
      "source": [
        "# Plot the close price\n",
        "plt.figure(figsize=(10,7))\n",
        "price_data_topglove_adjusted['Close'].plot()\n",
        "# Set the title and axes label\n",
        "plt.title('Top Glove Price Data', fontsize=14)\n",
        "plt.xlabel('Year-Month', fontsize=12)\n",
        "plt.ylabel('Price', fontsize=12)\n",
        "# Show the plot\n",
        "plt.show()"
      ],
      "execution_count": 19,
      "outputs": [
        {
          "output_type": "display_data",
          "data": {
            "image/png": "[encoded data removed]",
            "text/plain": [
              "<Figure size 720x504 with 1 Axes>"
            ]
          },
          "metadata": {
            "tags": []
          }
        }
      ]
    },
    {
      "cell_type": "markdown",
      "metadata": {
        "id": "WWkmWZokFsMJ"
      },
      "source": [
        "# Tweak the code"
      ]
    },
    {
      "cell_type": "markdown",
      "metadata": {
        "id": "4A41zM-FFvP9"
      },
      "source": [
        "You can tweak the code in the following ways:\n",
        "1. Use different asset other than APPL and download the data.\n",
        "2. Use a different time period to download the data.\n",
        "\n",
        "In the next notebook, we will learn how to download multiple asset data and KLCI data."
      ]
    }
  ]
}