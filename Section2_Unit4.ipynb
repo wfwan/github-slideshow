{
  "nbformat": 4,
  "nbformat_minor": 0,
  "metadata": {
    "colab": {
      "name": "Section2_Unit4.ipynb",
      "provenance": [],
      "collapsed_sections": [],
      "authorship_tag": "ABX9TyMV21/9nWsbrSxBRBUElYrB",
      "include_colab_link": true
    },
    "kernelspec": {
      "name": "python3",
      "display_name": "Python 3"
    },
    "language_info": {
      "name": "python"
    }
  },
  "cells": [
    {
      "cell_type": "markdown",
      "metadata": {
        "id": "view-in-github",
        "colab_type": "text"
      },
      "source": [
        "<a href=\"https://colab.research.google.com/github/wfwan/github-slideshow/blob/master/Section2_Unit4.ipynb\" target=\"_parent\"><img src=\"https://colab.research.google.com/assets/colab-badge.svg\" alt=\"Open In Colab\"/></a>"
      ]
    },
    {
      "cell_type": "markdown",
      "metadata": {
        "id": "udHiQbKpg8wu"
      },
      "source": [
        "# Download Data from Yahoo! Finance"
      ]
    },
    {
      "cell_type": "markdown",
      "metadata": {
        "id": "ekyUy945hA-H"
      },
      "source": [
        "You have already seen how to fetch data from Yahoo! Finance using the Python API. In this document, you will find the steps to download the data in the form of a CSV file."
      ]
    },
    {
      "cell_type": "markdown",
      "metadata": {
        "id": "jLEdxqdRhNRl"
      },
      "source": [
        "# Steps to download the CSV file from Yahoo! Finance"
      ]
    },
    {
      "cell_type": "markdown",
      "metadata": {
        "id": "GB-NbP86hSMS"
      },
      "source": [
        "You can also download the data in CSV format and then read it in a dataframe using pandas.read_csv function. The steps for the same, are as below:\n",
        "\n",
        "1. Go to [Yahoo! Finance](https://finance.yahoo.com/).\n",
        "2. Enter a ticker symbol into the search field.\n",
        "3. Click Historical Data tab.\n",
        "4. Select a Time Period, data to Show, and Frequency.\n",
        "5. Click on the Apply button.\n",
        "6. Click Download to download the data.\n",
        "7. Use pandas'read_csv function to read the data, where `file_name` is the name by which you have stored the file."
      ]
    },
    {
      "cell_type": "code",
      "metadata": {
        "id": "pXaPaUMmg533"
      },
      "source": [
        "import pandas as pd\n",
        "data = pd.read_csv(file_name)"
      ],
      "execution_count": null,
      "outputs": []
    }
  ]
}