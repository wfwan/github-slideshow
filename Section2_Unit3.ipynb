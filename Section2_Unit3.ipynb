{
  "nbformat": 4,
  "nbformat_minor": 0,
  "metadata": {
    "colab": {
      "name": "Untitled2.ipynb",
      "provenance": [],
      "authorship_tag": "ABX9TyMDGN5ETHcU9sYPoLKmbu1A",
      "include_colab_link": true
    },
    "kernelspec": {
      "name": "python3",
      "display_name": "Python 3"
    },
    "language_info": {
      "name": "python"
    }
  },
  "cells": [
    {
      "cell_type": "markdown",
      "metadata": {
        "id": "view-in-github",
        "colab_type": "text"
      },
      "source": [
        "<a href=\"https://colab.research.google.com/github/wfwan/github-slideshow/blob/master/Section2_Unit3.ipynb\" target=\"_parent\"><img src=\"https://colab.research.google.com/assets/colab-badge.svg\" alt=\"Open In Colab\"/></a>"
      ]
    },
    {
      "cell_type": "markdown",
      "metadata": {
        "id": "Vo_x4lFrUkcM"
      },
      "source": [
        "# Weekly Price Data & Resampling Techniques"
      ]
    },
    {
      "cell_type": "markdown",
      "metadata": {
        "id": "QgfcrVuyUprk"
      },
      "source": [
        "So far you have learnt how to download the data points for every day. But sometimes you might need more granularity to test your strategies like a data point for each hour, every 30 minutes or even each minute. In this notebook, you will learn how to download minute level data and how to resample them into different time frames such as 15 minutes and 1 hour. An important point to note here is, you can resample high frequency data to low frequency data, but not the other way round.\n",
        "\n",
        "You will perform the following steps:\n",
        "1. Download Minute Data\n",
        "2. Resample Data"
      ]
    },
    {
      "cell_type": "markdown",
      "metadata": {
        "id": "EOuR3zrJVP6S"
      },
      "source": [
        "# Import Libraries"
      ]
    },
    {
      "cell_type": "code",
      "metadata": {
        "colab": {
          "base_uri": "https://localhost:8080/"
        },
        "id": "a6NTyYx-T42C",
        "outputId": "1204096c-fd53-4a38-affb-ebcdeff47c73"
      },
      "source": [
        "# For data manipulation\n",
        "import pandas as pd\n",
        "\n",
        "# To fetch financial data\n",
        "!pip install yfinance\n",
        "import yfinance as yf\n",
        "\n",
        "# For visualisation\n",
        "import matplotlib.pyplot as plt\n",
        "%matplotlib inline\n",
        "plt.style.use('seaborn-darkgrid')"
      ],
      "execution_count": 2,
      "outputs": [
        {
          "output_type": "stream",
          "text": [
            "Collecting yfinance\n",
            "  Downloading https://files.pythonhosted.org/packages/5e/4e/88d31f5509edcbc51bcbb7eeae72516b17ada1bc2ad5b496e2d05d62c696/yfinance-0.1.60.tar.gz\n",
            "Requirement already satisfied: pandas>=0.24 in /usr/local/lib/python3.7/dist-packages (from yfinance) (1.1.5)\n",
            "Requirement already satisfied: numpy>=1.15 in /usr/local/lib/python3.7/dist-packages (from yfinance) (1.19.5)\n",
            "Requirement already satisfied: requests>=2.20 in /usr/local/lib/python3.7/dist-packages (from yfinance) (2.23.0)\n",
            "Requirement already satisfied: multitasking>=0.0.7 in /usr/local/lib/python3.7/dist-packages (from yfinance) (0.0.9)\n",
            "Collecting lxml>=4.5.1\n",
            "\u001b[?25l  Downloading https://files.pythonhosted.org/packages/30/c0/d0526314971fc661b083ab135747dc68446a3022686da8c16d25fcf6ef07/lxml-4.6.3-cp37-cp37m-manylinux2014_x86_64.whl (6.3MB)\n",
            "\u001b[K     |████████████████████████████████| 6.3MB 8.1MB/s \n",
            "\u001b[?25hRequirement already satisfied: python-dateutil>=2.7.3 in /usr/local/lib/python3.7/dist-packages (from pandas>=0.24->yfinance) (2.8.1)\n",
            "Requirement already satisfied: pytz>=2017.2 in /usr/local/lib/python3.7/dist-packages (from pandas>=0.24->yfinance) (2018.9)\n",
            "Requirement already satisfied: urllib3!=1.25.0,!=1.25.1,<1.26,>=1.21.1 in /usr/local/lib/python3.7/dist-packages (from requests>=2.20->yfinance) (1.24.3)\n",
            "Requirement already satisfied: certifi>=2017.4.17 in /usr/local/lib/python3.7/dist-packages (from requests>=2.20->yfinance) (2021.5.30)\n",
            "Requirement already satisfied: idna<3,>=2.5 in /usr/local/lib/python3.7/dist-packages (from requests>=2.20->yfinance) (2.10)\n",
            "Requirement already satisfied: chardet<4,>=3.0.2 in /usr/local/lib/python3.7/dist-packages (from requests>=2.20->yfinance) (3.0.4)\n",
            "Requirement already satisfied: six>=1.5 in /usr/local/lib/python3.7/dist-packages (from python-dateutil>=2.7.3->pandas>=0.24->yfinance) (1.15.0)\n",
            "Building wheels for collected packages: yfinance\n",
            "  Building wheel for yfinance (setup.py) ... \u001b[?25l\u001b[?25hdone\n",
            "  Created wheel for yfinance: filename=yfinance-0.1.60-py2.py3-none-any.whl size=23819 sha256=7568d8d0b1f52060874cdabec1e17ed202de6bbba4fd12bb6224e9762b27eeaa\n",
            "  Stored in directory: /root/.cache/pip/wheels/f0/be/a4/846f02c5985562250917b0ab7b33fff737c8e6e8cd5209aa3b\n",
            "Successfully built yfinance\n",
            "Installing collected packages: lxml, yfinance\n",
            "  Found existing installation: lxml 4.2.6\n",
            "    Uninstalling lxml-4.2.6:\n",
            "      Successfully uninstalled lxml-4.2.6\n",
            "Successfully installed lxml-4.6.3 yfinance-0.1.60\n"
          ],
          "name": "stdout"
        }
      ]
    },
    {
      "cell_type": "markdown",
      "metadata": {
        "id": "GN2jWKugVmrt"
      },
      "source": [
        "# Download Weekly Data"
      ]
    },
    {
      "cell_type": "markdown",
      "metadata": {
        "id": "UBDGXhXSVp5m"
      },
      "source": [
        "The `download` method of yfinance has parameters `period` and `interval`. You can play around with these parameters to download data for different periods and intervals.\n",
        "\n",
        "You can download the minute data for up to seven days from Yahoo! Finance. The syntax for downloading the minute data of an asset for 5 days is as below:\n",
        "\n",
        "yf.download(tickers, period=\"5d\", interval=\"1m\", auto_adjust=True)\n",
        "\n",
        "Parameters:\n",
        "1. ticker: Ticker of the asset\n",
        "2. period: This is the number of days/month of data required. The valid frequencies are 1d, 5d, 1mo, 3mo, 1y, 2y, 5y, ytd, max.\n",
        "3. interval: This is the frequency of data. The valid intervals are 1m, 2m, 5m, 15m, 30m, 60m, 90m, 1h, 1d, 5d, 1wk, 1mo, 3mo.\n",
        "4. auto_adjust: True to download adjusted data, else False."
      ]
    },
    {
      "cell_type": "code",
      "metadata": {
        "colab": {
          "base_uri": "https://localhost:8080/",
          "height": 255
        },
        "id": "YgUNpd8vW0KL",
        "outputId": "735b869f-1ddf-4fda-8965-e9f232411cf8"
      },
      "source": [
        "# Download the weekly data for Top Glove\n",
        "topglove_weekly_data = yf.download(tickers=\"7113.KL\", start=\"2021-05-23\", end=\"2021-07-03\", interval=\"1d\", auto_adjust=False)\n",
        "\n",
        "# Set the index to a datetime object\n",
        "topglove_weekly_data.index = pd.to_datetime(topglove_weekly_data.index)\n",
        "\n",
        "# Display the first 5 rows\n",
        "topglove_weekly_data.head()"
      ],
      "execution_count": 16,
      "outputs": [
        {
          "output_type": "stream",
          "text": [
            "\r[*********************100%***********************]  1 of 1 completed\n"
          ],
          "name": "stdout"
        },
        {
          "output_type": "execute_result",
          "data": {
            "text/html": [
              "<div>\n",
              "<style scoped>\n",
              "    .dataframe tbody tr th:only-of-type {\n",
              "        vertical-align: middle;\n",
              "    }\n",
              "\n",
              "    .dataframe tbody tr th {\n",
              "        vertical-align: top;\n",
              "    }\n",
              "\n",
              "    .dataframe thead th {\n",
              "        text-align: right;\n",
              "    }\n",
              "</style>\n",
              "<table border=\"1\" class=\"dataframe\">\n",
              "  <thead>\n",
              "    <tr style=\"text-align: right;\">\n",
              "      <th></th>\n",
              "      <th>Open</th>\n",
              "      <th>High</th>\n",
              "      <th>Low</th>\n",
              "      <th>Close</th>\n",
              "      <th>Adj Close</th>\n",
              "      <th>Volume</th>\n",
              "    </tr>\n",
              "    <tr>\n",
              "      <th>Date</th>\n",
              "      <th></th>\n",
              "      <th></th>\n",
              "      <th></th>\n",
              "      <th></th>\n",
              "      <th></th>\n",
              "      <th></th>\n",
              "    </tr>\n",
              "  </thead>\n",
              "  <tbody>\n",
              "    <tr>\n",
              "      <th>2021-05-24</th>\n",
              "      <td>5.30</td>\n",
              "      <td>5.34</td>\n",
              "      <td>5.23</td>\n",
              "      <td>5.26</td>\n",
              "      <td>5.200047</td>\n",
              "      <td>8666000</td>\n",
              "    </tr>\n",
              "    <tr>\n",
              "      <th>2021-05-25</th>\n",
              "      <td>5.26</td>\n",
              "      <td>5.27</td>\n",
              "      <td>5.15</td>\n",
              "      <td>5.20</td>\n",
              "      <td>5.140731</td>\n",
              "      <td>17405900</td>\n",
              "    </tr>\n",
              "    <tr>\n",
              "      <th>2021-05-27</th>\n",
              "      <td>5.21</td>\n",
              "      <td>5.29</td>\n",
              "      <td>5.11</td>\n",
              "      <td>5.12</td>\n",
              "      <td>5.061643</td>\n",
              "      <td>50654100</td>\n",
              "    </tr>\n",
              "    <tr>\n",
              "      <th>2021-05-28</th>\n",
              "      <td>5.13</td>\n",
              "      <td>5.17</td>\n",
              "      <td>5.07</td>\n",
              "      <td>5.09</td>\n",
              "      <td>5.031985</td>\n",
              "      <td>13000300</td>\n",
              "    </tr>\n",
              "    <tr>\n",
              "      <th>2021-05-31</th>\n",
              "      <td>5.09</td>\n",
              "      <td>5.20</td>\n",
              "      <td>5.09</td>\n",
              "      <td>5.18</td>\n",
              "      <td>5.120959</td>\n",
              "      <td>7125700</td>\n",
              "    </tr>\n",
              "  </tbody>\n",
              "</table>\n",
              "</div>"
            ],
            "text/plain": [
              "            Open  High   Low  Close  Adj Close    Volume\n",
              "Date                                                    \n",
              "2021-05-24  5.30  5.34  5.23   5.26   5.200047   8666000\n",
              "2021-05-25  5.26  5.27  5.15   5.20   5.140731  17405900\n",
              "2021-05-27  5.21  5.29  5.11   5.12   5.061643  50654100\n",
              "2021-05-28  5.13  5.17  5.07   5.09   5.031985  13000300\n",
              "2021-05-31  5.09  5.20  5.09   5.18   5.120959   7125700"
            ]
          },
          "metadata": {
            "tags": []
          },
          "execution_count": 16
        }
      ]
    },
    {
      "cell_type": "markdown",
      "metadata": {
        "id": "Ln5jdGs4YkVi"
      },
      "source": [
        "# Resample Data"
      ]
    },
    {
      "cell_type": "markdown",
      "metadata": {
        "id": "u5KGqehQYmwe"
      },
      "source": [
        "During strategy modelling, you might be required to work with a custom frequency of stock market data such as 15 minutes or 1 hour or even 1 month. If you have minute level data, then you can easily construct the 15 minutes, 1 hour or daily candles by resampling them. Thus, you don't have to buy them seperately.\n",
        "\n",
        "In this case, you can use the pandas `resample()` method to convert the stock data to the frequency of your choice.\n",
        "\n",
        "The first step is to define the dictionary with the conversion logic. For example, to get the open value the first value will be used, to get the high value the maximum value will be used and so on. The name Open, High, Low, Close and Volume should match the column names in your data frame."
      ]
    },
    {
      "cell_type": "code",
      "metadata": {
        "id": "FV2UFjq_Xktw"
      },
      "source": [
        "# Aggregate function\n",
        "ohlcv_dict = {'Open': 'first',\n",
        "              'High': 'max',\n",
        "              'Low': 'min',\n",
        "              'Close': 'last',\n",
        "              'Volume': 'sum'\n",
        "              }"
      ],
      "execution_count": 7,
      "outputs": []
    },
    {
      "cell_type": "markdown",
      "metadata": {
        "id": "P2vjloFcZvzF"
      },
      "source": [
        "You can now use the `resample()` method to resample the data to the desired frequency.\n",
        "\n",
        "Syntax:\n",
        "\n",
        "DataFrame.resample(interval).agg(aggregate)\n",
        "\n",
        "Parameters:\n",
        "1. interval: Resampling interval such as 15T for 15 minutes (H is for hour, D is for days, W is for weeks, M is for months)\n",
        "2. aggregate: Dictionary with aggregating values to be used while resampling\n",
        "\n",
        "Returns:\n",
        "Resampled dataframe"
      ]
    },
    {
      "cell_type": "markdown",
      "metadata": {
        "id": "ZlN8FlceaVKk"
      },
      "source": [
        "# Resample minute data to 1 week data"
      ]
    },
    {
      "cell_type": "code",
      "metadata": {
        "colab": {
          "base_uri": "https://localhost:8080/",
          "height": 237
        },
        "id": "Hxylo44taZun",
        "outputId": "8e6ddbe5-81c9-4bc1-a3a3-dbfd1ad07a92"
      },
      "source": [
        "# Resample data to 1 week data frame\n",
        "topglove_weekly_data_1W = topglove_weekly_data.resample('1W').agg(ohlcv_dict)\n",
        "\n",
        "# Drop the missing values\n",
        "topglove_weekly_data_1W.dropna(inplace=True)\n",
        "\n",
        "# Display the first 5 rows\n",
        "topglove_weekly_data_1W.head()"
      ],
      "execution_count": 17,
      "outputs": [
        {
          "output_type": "execute_result",
          "data": {
            "text/html": [
              "<div>\n",
              "<style scoped>\n",
              "    .dataframe tbody tr th:only-of-type {\n",
              "        vertical-align: middle;\n",
              "    }\n",
              "\n",
              "    .dataframe tbody tr th {\n",
              "        vertical-align: top;\n",
              "    }\n",
              "\n",
              "    .dataframe thead th {\n",
              "        text-align: right;\n",
              "    }\n",
              "</style>\n",
              "<table border=\"1\" class=\"dataframe\">\n",
              "  <thead>\n",
              "    <tr style=\"text-align: right;\">\n",
              "      <th></th>\n",
              "      <th>Open</th>\n",
              "      <th>High</th>\n",
              "      <th>Low</th>\n",
              "      <th>Close</th>\n",
              "      <th>Volume</th>\n",
              "    </tr>\n",
              "    <tr>\n",
              "      <th>Date</th>\n",
              "      <th></th>\n",
              "      <th></th>\n",
              "      <th></th>\n",
              "      <th></th>\n",
              "      <th></th>\n",
              "    </tr>\n",
              "  </thead>\n",
              "  <tbody>\n",
              "    <tr>\n",
              "      <th>2021-05-30</th>\n",
              "      <td>5.30</td>\n",
              "      <td>5.34</td>\n",
              "      <td>5.07</td>\n",
              "      <td>5.09</td>\n",
              "      <td>89726300</td>\n",
              "    </tr>\n",
              "    <tr>\n",
              "      <th>2021-06-06</th>\n",
              "      <td>5.09</td>\n",
              "      <td>5.20</td>\n",
              "      <td>4.88</td>\n",
              "      <td>4.90</td>\n",
              "      <td>71006100</td>\n",
              "    </tr>\n",
              "    <tr>\n",
              "      <th>2021-06-13</th>\n",
              "      <td>4.89</td>\n",
              "      <td>4.95</td>\n",
              "      <td>4.70</td>\n",
              "      <td>4.72</td>\n",
              "      <td>109615400</td>\n",
              "    </tr>\n",
              "    <tr>\n",
              "      <th>2021-06-20</th>\n",
              "      <td>4.98</td>\n",
              "      <td>5.09</td>\n",
              "      <td>4.61</td>\n",
              "      <td>4.70</td>\n",
              "      <td>142950500</td>\n",
              "    </tr>\n",
              "    <tr>\n",
              "      <th>2021-06-27</th>\n",
              "      <td>4.71</td>\n",
              "      <td>4.73</td>\n",
              "      <td>4.31</td>\n",
              "      <td>4.35</td>\n",
              "      <td>86808900</td>\n",
              "    </tr>\n",
              "  </tbody>\n",
              "</table>\n",
              "</div>"
            ],
            "text/plain": [
              "            Open  High   Low  Close     Volume\n",
              "Date                                          \n",
              "2021-05-30  5.30  5.34  5.07   5.09   89726300\n",
              "2021-06-06  5.09  5.20  4.88   4.90   71006100\n",
              "2021-06-13  4.89  4.95  4.70   4.72  109615400\n",
              "2021-06-20  4.98  5.09  4.61   4.70  142950500\n",
              "2021-06-27  4.71  4.73  4.31   4.35   86808900"
            ]
          },
          "metadata": {
            "tags": []
          },
          "execution_count": 17
        }
      ]
    },
    {
      "cell_type": "markdown",
      "metadata": {
        "id": "oShgXfUKdjJM"
      },
      "source": [
        "# Tweak the code"
      ]
    },
    {
      "cell_type": "markdown",
      "metadata": {
        "id": "Jpztn0Wqdob0"
      },
      "source": [
        "You can tweak the code in the following ways:\n",
        "1. Use different asset other than Top Glove of your choice and download the data.\n",
        "2. Use a different time interval to resample the data."
      ]
    }
  ]
}
