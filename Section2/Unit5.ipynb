{
  "nbformat": 4,
  "nbformat_minor": 0,
  "metadata": {
    "colab": {
      "name": "Section2_Unit5.ipynb",
      "provenance": [],
      "collapsed_sections": [],
      "authorship_tag": "ABX9TyN8lL2aOI9iNljygKTZ3ntd",
      "include_colab_link": true
    },
    "kernelspec": {
      "name": "python3",
      "display_name": "Python 3"
    },
    "language_info": {
      "name": "python"
    }
  },
  "cells": [
    {
      "cell_type": "markdown",
      "metadata": {
        "id": "view-in-github",
        "colab_type": "text"
      },
      "source": [
        "<a href=\"https://colab.research.google.com/github/wfwan/github-slideshow/blob/master/Section2_Unit5.ipynb\" target=\"_parent\"><img src=\"https://colab.research.google.com/assets/colab-badge.svg\" alt=\"Open In Colab\"/></a>"
      ]
    },
    {
      "cell_type": "markdown",
      "metadata": {
        "id": "M7kcxtPDirjd"
      },
      "source": [
        "# Sources of Stock Price Data"
      ]
    },
    {
      "cell_type": "markdown",
      "metadata": {
        "id": "0jL1wG6tiwaP"
      },
      "source": [
        "**Yahoo! Finance**\n",
        "\n",
        "Yahoo! Finance is one of the most popular sorces for stock price data. You have already fetched the data from Yahoo! Finance in the course notebooks using yfinance package. \n",
        "\n",
        "[Click here to read more](https://pypi.org/project/yfinance/).\n",
        "\n",
        "Source: Yahoo! Finance"
      ]
    },
    {
      "cell_type": "markdown",
      "metadata": {
        "id": "RyB-hZzUjPGK"
      },
      "source": [
        "**Pandas Datareader**\n",
        "\n",
        "You can also use the Pandas datareader package to create dataframes from several web sources such as Yahoo! Finance and FRED.\n",
        "\n",
        "[Click here to read more](https://pypi.org/project/pandas-datareader/).\n",
        "\n",
        "Source: Pandas Datareader"
      ]
    },
    {
      "cell_type": "markdown",
      "metadata": {
        "id": "cq_F0z35jjev"
      },
      "source": [
        "**Alpha Vantage***\n",
        "\n",
        "Alpha Vantage API integration is very smooth and easy. It happens to be a great source of stock price data because of its regular maintenance. It offers free as well as paid access to different datasets.\n",
        "\n",
        "[Click here to read more](https://www.alphavantage.co/).\n",
        "\n",
        "Source: Alpha Vantage"
      ]
    },
    {
      "cell_type": "markdown",
      "metadata": {
        "id": "hSLuBE3Kj7Wj"
      },
      "source": [
        "**Interactive Brokers***\n",
        "\n",
        "Interactive Brokers is mainly used for trading but you can also fetch the historical data through web API. However, you will need a subscription for the same.\n",
        "\n",
        "[Click here to read more](https://www.interactivebrokers.com/en/index.php?f=5039).\n",
        "\n",
        "Source: Interactive Brokers"
      ]
    },
    {
      "cell_type": "markdown",
      "metadata": {
        "id": "cVYVKvnBkrfE"
      },
      "source": [
        "* The data providers listed here are for indicative purposes only and not endorsed by wfwan. Before subscribing to any paid data/servie, please perform your own analysis and due dilligence."
      ]
    }
  ]
}
