{
  "nbformat": 4,
  "nbformat_minor": 0,
  "metadata": {
    "colab": {
      "name": "Untitled1.ipynb",
      "provenance": [],
      "collapsed_sections": [],
      "authorship_tag": "ABX9TyPgPEb3w28E2ouLPgfm2gVz",
      "include_colab_link": true
    },
    "kernelspec": {
      "name": "python3",
      "display_name": "Python 3"
    },
    "language_info": {
      "name": "python"
    }
  },
  "cells": [
    {
      "cell_type": "markdown",
      "metadata": {
        "id": "view-in-github",
        "colab_type": "text"
      },
      "source": [
        "<a href=\"https://colab.research.google.com/github/wfwan/github-slideshow/blob/master/Section2_Unit2.ipynb\" target=\"_parent\"><img src=\"https://colab.research.google.com/assets/colab-badge.svg\" alt=\"Open In Colab\"/></a>"
      ]
    },
    {
      "cell_type": "markdown",
      "metadata": {
        "id": "0xWw0uNoIQtJ"
      },
      "source": [
        "# Multiple Tickers Data"
      ]
    },
    {
      "cell_type": "markdown",
      "metadata": {
        "id": "qgHQOemcIV9J"
      },
      "source": [
        "In the previous notebook, you learnt how to download the data for a single asset. But in most cases, you will need to retrieve the data for multiple assets at the same time. In this notebook, you will learn the same.\n",
        "\n",
        "You will perform the following steps. You will download the:\n",
        "1. Data for multiple assets\n",
        "2. Data for assets constituting KLCI"
      ]
    },
    {
      "cell_type": "markdown",
      "metadata": {
        "id": "eMIc-I-oIuN9"
      },
      "source": [
        "# Import Libraries"
      ]
    },
    {
      "cell_type": "code",
      "metadata": {
        "colab": {
          "base_uri": "https://localhost:8080/"
        },
        "id": "7nWfR0-gHY4W",
        "outputId": "70f91b9f-3d64-4b78-d611-e4ad4e218dde"
      },
      "source": [
        "# For data manipulation\n",
        "import pandas as pd\n",
        "\n",
        "# To fetch financial data\n",
        "!pip install yfinance\n",
        "import yfinance as yf\n",
        "\n",
        "# For visualisation\n",
        "import matplotlib.pyplot as plt\n",
        "%matplotlib inline\n",
        "plt.style.use('seaborn-darkgrid')"
      ],
      "execution_count": 2,
      "outputs": [
        {
          "output_type": "stream",
          "text": [
            "Collecting yfinance\n",
            "  Downloading https://files.pythonhosted.org/packages/5e/4e/88d31f5509edcbc51bcbb7eeae72516b17ada1bc2ad5b496e2d05d62c696/yfinance-0.1.60.tar.gz\n",
            "Requirement already satisfied: pandas>=0.24 in /usr/local/lib/python3.7/dist-packages (from yfinance) (1.1.5)\n",
            "Requirement already satisfied: numpy>=1.15 in /usr/local/lib/python3.7/dist-packages (from yfinance) (1.19.5)\n",
            "Requirement already satisfied: requests>=2.20 in /usr/local/lib/python3.7/dist-packages (from yfinance) (2.23.0)\n",
            "Requirement already satisfied: multitasking>=0.0.7 in /usr/local/lib/python3.7/dist-packages (from yfinance) (0.0.9)\n",
            "Collecting lxml>=4.5.1\n",
            "\u001b[?25l  Downloading https://files.pythonhosted.org/packages/30/c0/d0526314971fc661b083ab135747dc68446a3022686da8c16d25fcf6ef07/lxml-4.6.3-cp37-cp37m-manylinux2014_x86_64.whl (6.3MB)\n",
            "\u001b[K     |████████████████████████████████| 6.3MB 6.3MB/s \n",
            "\u001b[?25hRequirement already satisfied: pytz>=2017.2 in /usr/local/lib/python3.7/dist-packages (from pandas>=0.24->yfinance) (2018.9)\n",
            "Requirement already satisfied: python-dateutil>=2.7.3 in /usr/local/lib/python3.7/dist-packages (from pandas>=0.24->yfinance) (2.8.1)\n",
            "Requirement already satisfied: certifi>=2017.4.17 in /usr/local/lib/python3.7/dist-packages (from requests>=2.20->yfinance) (2021.5.30)\n",
            "Requirement already satisfied: chardet<4,>=3.0.2 in /usr/local/lib/python3.7/dist-packages (from requests>=2.20->yfinance) (3.0.4)\n",
            "Requirement already satisfied: urllib3!=1.25.0,!=1.25.1,<1.26,>=1.21.1 in /usr/local/lib/python3.7/dist-packages (from requests>=2.20->yfinance) (1.24.3)\n",
            "Requirement already satisfied: idna<3,>=2.5 in /usr/local/lib/python3.7/dist-packages (from requests>=2.20->yfinance) (2.10)\n",
            "Requirement already satisfied: six>=1.5 in /usr/local/lib/python3.7/dist-packages (from python-dateutil>=2.7.3->pandas>=0.24->yfinance) (1.15.0)\n",
            "Building wheels for collected packages: yfinance\n",
            "  Building wheel for yfinance (setup.py) ... \u001b[?25l\u001b[?25hdone\n",
            "  Created wheel for yfinance: filename=yfinance-0.1.60-py2.py3-none-any.whl size=23819 sha256=d3f70dca0356bb8079c44f97dd379d1fe5af440295021c60584a126d0f0da2a5\n",
            "  Stored in directory: /root/.cache/pip/wheels/f0/be/a4/846f02c5985562250917b0ab7b33fff737c8e6e8cd5209aa3b\n",
            "Successfully built yfinance\n",
            "Installing collected packages: lxml, yfinance\n",
            "  Found existing installation: lxml 4.2.6\n",
            "    Uninstalling lxml-4.2.6:\n",
            "      Successfully uninstalled lxml-4.2.6\n",
            "Successfully installed lxml-4.6.3 yfinance-0.1.60\n"
          ],
          "name": "stdout"
        }
      ]
    },
    {
      "cell_type": "markdown",
      "metadata": {
        "id": "7Oeclgw1Jeuz"
      },
      "source": [
        "# Data for Multiple Assets"
      ]
    },
    {
      "cell_type": "markdown",
      "metadata": {
        "id": "YapycWAfJjxw"
      },
      "source": [
        "Downloading data for multiple assets is as simple as downloading the data for a single asset. This can be done by simply extending the list of tickers in the `download()` method.\n",
        "\n",
        "Syntax:\n",
        "\n",
        "import yfinance as yf\n",
        "\n",
        "yf.download(ticker_list, start, end,)[column_name]\n",
        "\n",
        "Parameters:\n",
        "1. ticker_list: List of all tickers\n",
        "2. start: Start date\n",
        "3. end: End date, if not specified, data is downloaded till current data\n",
        "4. column_name: The column to extract from the dataframe\n",
        "\n",
        "Returns: A `pandas` dataframe containing the open, high, low, close, and adjusted close price along with the volume for all trading days between the start and the end date.\n",
        "\n",
        "After downloading the data, you can use the `matplotlib` package to visualize the data."
      ]
    },
    {
      "cell_type": "code",
      "metadata": {
        "colab": {
          "base_uri": "https://localhost:8080/",
          "height": 255
        },
        "id": "0-ZhRZ75I9-8",
        "outputId": "bea9e090-99ce-4b6d-ccd6-d376dbdac1ef"
      },
      "source": [
        "# Define the ticker list\n",
        "ticker_list = ['7113.KL', '9318.KL', '0113.KL']\n",
        "\n",
        "# Download the data for the above tickers and extract the Adj Close column\n",
        "price_data = yf.download(ticker_list, start=\"2021-06-27\", end=\"2021-07-03\")['Adj Close']\n",
        "\n",
        "# Set the index to a datetime object\n",
        "price_data.index = pd.to_datetime(price_data.index)\n",
        "\n",
        "# Display the first 5 rows\n",
        "price_data.head()"
      ],
      "execution_count": 3,
      "outputs": [
        {
          "output_type": "stream",
          "text": [
            "[*********************100%***********************]  3 of 3 completed\n"
          ],
          "name": "stdout"
        },
        {
          "output_type": "execute_result",
          "data": {
            "text/html": [
              "<div>\n",
              "<style scoped>\n",
              "    .dataframe tbody tr th:only-of-type {\n",
              "        vertical-align: middle;\n",
              "    }\n",
              "\n",
              "    .dataframe tbody tr th {\n",
              "        vertical-align: top;\n",
              "    }\n",
              "\n",
              "    .dataframe thead th {\n",
              "        text-align: right;\n",
              "    }\n",
              "</style>\n",
              "<table border=\"1\" class=\"dataframe\">\n",
              "  <thead>\n",
              "    <tr style=\"text-align: right;\">\n",
              "      <th></th>\n",
              "      <th>0113.KL</th>\n",
              "      <th>7113.KL</th>\n",
              "      <th>9318.KL</th>\n",
              "    </tr>\n",
              "    <tr>\n",
              "      <th>Date</th>\n",
              "      <th></th>\n",
              "      <th></th>\n",
              "      <th></th>\n",
              "    </tr>\n",
              "  </thead>\n",
              "  <tbody>\n",
              "    <tr>\n",
              "      <th>2021-06-28</th>\n",
              "      <td>0.885</td>\n",
              "      <td>4.23</td>\n",
              "      <td>0.300</td>\n",
              "    </tr>\n",
              "    <tr>\n",
              "      <th>2021-06-29</th>\n",
              "      <td>0.885</td>\n",
              "      <td>4.30</td>\n",
              "      <td>0.300</td>\n",
              "    </tr>\n",
              "    <tr>\n",
              "      <th>2021-06-30</th>\n",
              "      <td>0.865</td>\n",
              "      <td>4.17</td>\n",
              "      <td>0.295</td>\n",
              "    </tr>\n",
              "    <tr>\n",
              "      <th>2021-07-01</th>\n",
              "      <td>0.885</td>\n",
              "      <td>4.07</td>\n",
              "      <td>0.300</td>\n",
              "    </tr>\n",
              "    <tr>\n",
              "      <th>2021-07-02</th>\n",
              "      <td>0.915</td>\n",
              "      <td>4.01</td>\n",
              "      <td>0.305</td>\n",
              "    </tr>\n",
              "  </tbody>\n",
              "</table>\n",
              "</div>"
            ],
            "text/plain": [
              "            0113.KL  7113.KL  9318.KL\n",
              "Date                                 \n",
              "2021-06-28    0.885     4.23    0.300\n",
              "2021-06-29    0.885     4.30    0.300\n",
              "2021-06-30    0.865     4.17    0.295\n",
              "2021-07-01    0.885     4.07    0.300\n",
              "2021-07-02    0.915     4.01    0.305"
            ]
          },
          "metadata": {
            "tags": []
          },
          "execution_count": 3
        }
      ]
    },
    {
      "cell_type": "markdown",
      "metadata": {
        "id": "S7lKrJ24Ls0g"
      },
      "source": [
        "# Plot the Series"
      ]
    },
    {
      "cell_type": "markdown",
      "metadata": {
        "id": "jJInyRySLxW5"
      },
      "source": [
        "Since you will be visualizing the price of three different assets, you can divide the entire price series by its respective first price value. This will make the changes comparable."
      ]
    },
    {
      "cell_type": "code",
      "metadata": {
        "colab": {
          "base_uri": "https://localhost:8080/",
          "height": 481
        },
        "id": "aFCIy0O0Lfrs",
        "outputId": "4f4d5c6d-1f63-4bb3-f21a-210f7dde68be"
      },
      "source": [
        "# Plot the absolute price series\n",
        "plt.figure(figsize=(10,7))\n",
        "(price_data['0113.KL']/price_data['0113.KL'].iloc[0]).plot()\n",
        "(price_data['9318.KL']/price_data['9318.KL'].iloc[0]).plot()\n",
        "(price_data['7113.KL']/price_data['7113.KL'].iloc[0]).plot()\n",
        "\n",
        "# Set the title and axes label\n",
        "plt.title('Price in Change', fontsize=14)\n",
        "plt.xlabel('Year-Month', fontsize=12)\n",
        "plt.ylabel('Price Change', fontsize=12)\n",
        "plt.legend()\n",
        "\n",
        "# Show the plot\n",
        "plt.show()"
      ],
      "execution_count": 6,
      "outputs": [
        {
          "output_type": "display_data",
          "data": {
            "image/png": "[encoded data removed]",
            "text/plain": [
              "<Figure size 720x504 with 1 Axes>"
            ]
          },
          "metadata": {
            "tags": []
          }
        }
      ]
    },
    {
      "cell_type": "markdown",
      "metadata": {
        "id": "F98xPOUsNi4M"
      },
      "source": [
        "# Data for Assets Constituting KLCI"
      ]
    },
    {
      "cell_type": "markdown",
      "metadata": {
        "id": "GkL9BNl-NoZ5"
      },
      "source": [
        "To download the data for all the assets that make up the KLCI, you will first need the ticker of all the asset. You can read this information from a web source by using the read_html method of pandas.\n",
        "\n",
        "Syntax:\n",
        "\n",
        "pandas.read_html(url)\n",
        "\n",
        "Parameters:\n",
        "\n",
        "url: url of the website (in string format)\n",
        "\n",
        "Returns: The above method will return a list of dataframes. You can use a proper index to extract the desired data.\n",
        "\n",
        "You will now read the information from topforeignstocks.com"
      ]
    },
    {
      "cell_type": "code",
      "metadata": {
        "colab": {
          "base_uri": "https://localhost:8080/",
          "height": 206
        },
        "id": "agOLg4AkMkFZ",
        "outputId": "e88f96e6-fdb5-4136-9bb3-aaa11fa69180"
      },
      "source": [
        "# url of the source\n",
        "url = 'https://topforeignstocks.com/indices/the-components-of-the-ftse-bursa-malaysia-klci-index/'\n",
        "\n",
        "# Read and print the stock tickers that make up KLCI\n",
        "tickers = pd.read_html(url)[0]\n",
        "\n",
        "tickers.head()"
      ],
      "execution_count": 12,
      "outputs": [
        {
          "output_type": "execute_result",
          "data": {
            "text/html": [
              "<div>\n",
              "<style scoped>\n",
              "    .dataframe tbody tr th:only-of-type {\n",
              "        vertical-align: middle;\n",
              "    }\n",
              "\n",
              "    .dataframe tbody tr th {\n",
              "        vertical-align: top;\n",
              "    }\n",
              "\n",
              "    .dataframe thead th {\n",
              "        text-align: right;\n",
              "    }\n",
              "</style>\n",
              "<table border=\"1\" class=\"dataframe\">\n",
              "  <thead>\n",
              "    <tr style=\"text-align: right;\">\n",
              "      <th></th>\n",
              "      <th>S.No.</th>\n",
              "      <th>Company Name</th>\n",
              "      <th>Ticker</th>\n",
              "      <th>Industry</th>\n",
              "    </tr>\n",
              "  </thead>\n",
              "  <tbody>\n",
              "    <tr>\n",
              "      <th>0</th>\n",
              "      <td>1</td>\n",
              "      <td>Axiata Group Berhad</td>\n",
              "      <td>6888.KL</td>\n",
              "      <td>Telecommunications Service Providers</td>\n",
              "    </tr>\n",
              "    <tr>\n",
              "      <th>1</th>\n",
              "      <td>2</td>\n",
              "      <td>CIMB Group Holdings Berhad</td>\n",
              "      <td>1023.KL</td>\n",
              "      <td>Banking</td>\n",
              "    </tr>\n",
              "    <tr>\n",
              "      <th>2</th>\n",
              "      <td>3</td>\n",
              "      <td>Dialog Group Berhad</td>\n",
              "      <td>7277.KL</td>\n",
              "      <td>Energy Infrastructure, Equipment &amp; Services</td>\n",
              "    </tr>\n",
              "    <tr>\n",
              "      <th>3</th>\n",
              "      <td>4</td>\n",
              "      <td>DiGi.Com Berhad</td>\n",
              "      <td>6947.KL</td>\n",
              "      <td>Telecommunications Service Providers</td>\n",
              "    </tr>\n",
              "    <tr>\n",
              "      <th>4</th>\n",
              "      <td>5</td>\n",
              "      <td>Genting Berhad</td>\n",
              "      <td>3182.KL</td>\n",
              "      <td>Travel, Leisure &amp; Hospitality</td>\n",
              "    </tr>\n",
              "  </tbody>\n",
              "</table>\n",
              "</div>"
            ],
            "text/plain": [
              "   S.No.  ...                                     Industry\n",
              "0      1  ...         Telecommunications Service Providers\n",
              "1      2  ...                                      Banking\n",
              "2      3  ...  Energy Infrastructure, Equipment & Services\n",
              "3      4  ...         Telecommunications Service Providers\n",
              "4      5  ...                Travel, Leisure & Hospitality\n",
              "\n",
              "[5 rows x 4 columns]"
            ]
          },
          "metadata": {
            "tags": []
          },
          "execution_count": 12
        }
      ]
    },
    {
      "cell_type": "markdown",
      "metadata": {
        "id": "CLp6jB-sPxCz"
      },
      "source": [
        "In the above dataframe, you can see that the tickers of the assets are stored in the column `Ticker`. You will extract this column, convert it into a list, and pass it as tickers' list into `yf.download()`.\n",
        "\n",
        "Syntax to convert a column of a dataframe to a list:\n",
        "\n",
        "DataFrame[column].tolist()\n",
        "\n",
        "Parameter: column: The column to be converted into a list\n",
        "\n",
        "The following cell fetches the price data for KLCI assets. It might take time to run."
      ]
    },
    {
      "cell_type": "code",
      "metadata": {
        "colab": {
          "base_uri": "https://localhost:8080/",
          "height": 361
        },
        "id": "dpWJuIANPDxV",
        "outputId": "59eb7521-2049-4f84-f5e1-815a85a574d2"
      },
      "source": [
        "# Convert (the ticker) 'Ticker' column to list\n",
        "ticker_symbol = tickers['Ticker'].tolist()\n",
        "\n",
        "# Clean the symbols\n",
        "#ticker_symbol = [ticker.replace(\".\",\".\") for ticker in ticker_symbol]\n",
        "\n",
        "# Get the data for this tickers from yfinance\n",
        "data = yf.download(ticker_symbol, '2021-06-27', auto_adjust=True)['Close']\n",
        "data.head()"
      ],
      "execution_count": 16,
      "outputs": [
        {
          "output_type": "stream",
          "text": [
            "[*********************100%***********************]  30 of 30 completed\n"
          ],
          "name": "stdout"
        },
        {
          "output_type": "execute_result",
          "data": {
            "text/html": [
              "<div>\n",
              "<style scoped>\n",
              "    .dataframe tbody tr th:only-of-type {\n",
              "        vertical-align: middle;\n",
              "    }\n",
              "\n",
              "    .dataframe tbody tr th {\n",
              "        vertical-align: top;\n",
              "    }\n",
              "\n",
              "    .dataframe thead th {\n",
              "        text-align: right;\n",
              "    }\n",
              "</style>\n",
              "<table border=\"1\" class=\"dataframe\">\n",
              "  <thead>\n",
              "    <tr style=\"text-align: right;\">\n",
              "      <th></th>\n",
              "      <th>1023.KL</th>\n",
              "      <th>1066.KL</th>\n",
              "      <th>1082.KL</th>\n",
              "      <th>1155.KL</th>\n",
              "      <th>1295.KL</th>\n",
              "      <th>1961.KL</th>\n",
              "      <th>2445.KL</th>\n",
              "      <th>3034.KL</th>\n",
              "      <th>3182.KL</th>\n",
              "      <th>3816.KL</th>\n",
              "      <th>4065.KL</th>\n",
              "      <th>4197.KL</th>\n",
              "      <th>4707.KL</th>\n",
              "      <th>4715.KL</th>\n",
              "      <th>4863.KL</th>\n",
              "      <th>5168.KL</th>\n",
              "      <th>5183.KL</th>\n",
              "      <th>5225.KL</th>\n",
              "      <th>5285.KL</th>\n",
              "      <th>5347.KL</th>\n",
              "      <th>5681.KL</th>\n",
              "      <th>5819.KL</th>\n",
              "      <th>6012.KL</th>\n",
              "      <th>6033.KL</th>\n",
              "      <th>6888.KL</th>\n",
              "      <th>6947.KL</th>\n",
              "      <th>7106.KL</th>\n",
              "      <th>7113.KL</th>\n",
              "      <th>7277.KL</th>\n",
              "      <th>8869.KL</th>\n",
              "    </tr>\n",
              "    <tr>\n",
              "      <th>Date</th>\n",
              "      <th></th>\n",
              "      <th></th>\n",
              "      <th></th>\n",
              "      <th></th>\n",
              "      <th></th>\n",
              "      <th></th>\n",
              "      <th></th>\n",
              "      <th></th>\n",
              "      <th></th>\n",
              "      <th></th>\n",
              "      <th></th>\n",
              "      <th></th>\n",
              "      <th></th>\n",
              "      <th></th>\n",
              "      <th></th>\n",
              "      <th></th>\n",
              "      <th></th>\n",
              "      <th></th>\n",
              "      <th></th>\n",
              "      <th></th>\n",
              "      <th></th>\n",
              "      <th></th>\n",
              "      <th></th>\n",
              "      <th></th>\n",
              "      <th></th>\n",
              "      <th></th>\n",
              "      <th></th>\n",
              "      <th></th>\n",
              "      <th></th>\n",
              "      <th></th>\n",
              "    </tr>\n",
              "  </thead>\n",
              "  <tbody>\n",
              "    <tr>\n",
              "      <th>2021-06-28</th>\n",
              "      <td>4.61</td>\n",
              "      <td>5.42</td>\n",
              "      <td>17.820000</td>\n",
              "      <td>8.14</td>\n",
              "      <td>4.15</td>\n",
              "      <td>3.75</td>\n",
              "      <td>20.340000</td>\n",
              "      <td>7.76</td>\n",
              "      <td>5.00</td>\n",
              "      <td>6.80</td>\n",
              "      <td>18.420000</td>\n",
              "      <td>2.13</td>\n",
              "      <td>133.000000</td>\n",
              "      <td>2.86</td>\n",
              "      <td>6.05</td>\n",
              "      <td>7.30</td>\n",
              "      <td>8.12</td>\n",
              "      <td>5.62</td>\n",
              "      <td>4.08</td>\n",
              "      <td>9.85</td>\n",
              "      <td>19.100000</td>\n",
              "      <td>18.799999</td>\n",
              "      <td>4.42</td>\n",
              "      <td>15.70</td>\n",
              "      <td>3.80</td>\n",
              "      <td>4.28</td>\n",
              "      <td>3.33</td>\n",
              "      <td>4.23</td>\n",
              "      <td>2.88</td>\n",
              "      <td>4.79</td>\n",
              "    </tr>\n",
              "    <tr>\n",
              "      <th>2021-06-29</th>\n",
              "      <td>4.61</td>\n",
              "      <td>5.37</td>\n",
              "      <td>17.799999</td>\n",
              "      <td>8.13</td>\n",
              "      <td>4.15</td>\n",
              "      <td>3.81</td>\n",
              "      <td>20.400000</td>\n",
              "      <td>7.90</td>\n",
              "      <td>4.96</td>\n",
              "      <td>6.83</td>\n",
              "      <td>18.400000</td>\n",
              "      <td>2.20</td>\n",
              "      <td>133.300003</td>\n",
              "      <td>2.79</td>\n",
              "      <td>6.10</td>\n",
              "      <td>7.49</td>\n",
              "      <td>8.06</td>\n",
              "      <td>5.63</td>\n",
              "      <td>4.11</td>\n",
              "      <td>9.84</td>\n",
              "      <td>18.980000</td>\n",
              "      <td>18.840000</td>\n",
              "      <td>4.43</td>\n",
              "      <td>15.70</td>\n",
              "      <td>3.79</td>\n",
              "      <td>4.28</td>\n",
              "      <td>3.48</td>\n",
              "      <td>4.30</td>\n",
              "      <td>2.91</td>\n",
              "      <td>4.84</td>\n",
              "    </tr>\n",
              "    <tr>\n",
              "      <th>2021-06-30</th>\n",
              "      <td>4.61</td>\n",
              "      <td>5.40</td>\n",
              "      <td>17.799999</td>\n",
              "      <td>8.11</td>\n",
              "      <td>4.11</td>\n",
              "      <td>3.76</td>\n",
              "      <td>20.360001</td>\n",
              "      <td>7.80</td>\n",
              "      <td>4.93</td>\n",
              "      <td>6.78</td>\n",
              "      <td>18.299999</td>\n",
              "      <td>2.18</td>\n",
              "      <td>133.300003</td>\n",
              "      <td>2.77</td>\n",
              "      <td>6.07</td>\n",
              "      <td>7.35</td>\n",
              "      <td>8.06</td>\n",
              "      <td>5.47</td>\n",
              "      <td>3.98</td>\n",
              "      <td>9.79</td>\n",
              "      <td>18.600000</td>\n",
              "      <td>18.719999</td>\n",
              "      <td>4.39</td>\n",
              "      <td>15.50</td>\n",
              "      <td>3.74</td>\n",
              "      <td>4.13</td>\n",
              "      <td>3.30</td>\n",
              "      <td>4.17</td>\n",
              "      <td>2.89</td>\n",
              "      <td>4.78</td>\n",
              "    </tr>\n",
              "    <tr>\n",
              "      <th>2021-07-01</th>\n",
              "      <td>4.64</td>\n",
              "      <td>5.41</td>\n",
              "      <td>17.820000</td>\n",
              "      <td>8.11</td>\n",
              "      <td>4.12</td>\n",
              "      <td>3.79</td>\n",
              "      <td>20.299999</td>\n",
              "      <td>7.74</td>\n",
              "      <td>4.98</td>\n",
              "      <td>6.78</td>\n",
              "      <td>18.200001</td>\n",
              "      <td>2.18</td>\n",
              "      <td>133.300003</td>\n",
              "      <td>2.81</td>\n",
              "      <td>6.14</td>\n",
              "      <td>7.14</td>\n",
              "      <td>8.05</td>\n",
              "      <td>5.56</td>\n",
              "      <td>4.06</td>\n",
              "      <td>9.75</td>\n",
              "      <td>18.540001</td>\n",
              "      <td>18.799999</td>\n",
              "      <td>4.40</td>\n",
              "      <td>15.62</td>\n",
              "      <td>3.78</td>\n",
              "      <td>4.17</td>\n",
              "      <td>3.31</td>\n",
              "      <td>4.07</td>\n",
              "      <td>2.87</td>\n",
              "      <td>4.75</td>\n",
              "    </tr>\n",
              "    <tr>\n",
              "      <th>2021-07-02</th>\n",
              "      <td>4.64</td>\n",
              "      <td>5.39</td>\n",
              "      <td>18.000000</td>\n",
              "      <td>8.11</td>\n",
              "      <td>4.11</td>\n",
              "      <td>3.82</td>\n",
              "      <td>20.320000</td>\n",
              "      <td>7.80</td>\n",
              "      <td>4.95</td>\n",
              "      <td>6.76</td>\n",
              "      <td>18.240000</td>\n",
              "      <td>2.17</td>\n",
              "      <td>133.500000</td>\n",
              "      <td>2.80</td>\n",
              "      <td>6.11</td>\n",
              "      <td>7.02</td>\n",
              "      <td>8.07</td>\n",
              "      <td>5.61</td>\n",
              "      <td>3.98</td>\n",
              "      <td>9.73</td>\n",
              "      <td>18.600000</td>\n",
              "      <td>18.820000</td>\n",
              "      <td>4.41</td>\n",
              "      <td>15.62</td>\n",
              "      <td>3.82</td>\n",
              "      <td>4.20</td>\n",
              "      <td>3.23</td>\n",
              "      <td>4.01</td>\n",
              "      <td>2.88</td>\n",
              "      <td>4.78</td>\n",
              "    </tr>\n",
              "  </tbody>\n",
              "</table>\n",
              "</div>"
            ],
            "text/plain": [
              "            1023.KL  1066.KL    1082.KL  ...  7113.KL  7277.KL  8869.KL\n",
              "Date                                     ...                           \n",
              "2021-06-28     4.61     5.42  17.820000  ...     4.23     2.88     4.79\n",
              "2021-06-29     4.61     5.37  17.799999  ...     4.30     2.91     4.84\n",
              "2021-06-30     4.61     5.40  17.799999  ...     4.17     2.89     4.78\n",
              "2021-07-01     4.64     5.41  17.820000  ...     4.07     2.87     4.75\n",
              "2021-07-02     4.64     5.39  18.000000  ...     4.01     2.88     4.78\n",
              "\n",
              "[5 rows x 30 columns]"
            ]
          },
          "metadata": {
            "tags": []
          },
          "execution_count": 16
        }
      ]
    },
    {
      "cell_type": "markdown",
      "metadata": {
        "id": "Tz6Qc-vfSadu"
      },
      "source": [
        "The above dataframe has the close price of all the assets that make up the KLCI."
      ]
    },
    {
      "cell_type": "markdown",
      "metadata": {
        "id": "WFRe_JPwShaZ"
      },
      "source": [
        "# Tweak the code"
      ]
    },
    {
      "cell_type": "markdown",
      "metadata": {
        "id": "xf9kXlfiSkT4"
      },
      "source": [
        "You can tweak the code in the following ways:\n",
        "1. Use a list of asset of your choice to download the data.\n",
        "2. Use a different time period to download the data.\n",
        "\n",
        "In the next notebook, you will learn how to download minute leavel data and resample them."
      ]
    }
  ]
}